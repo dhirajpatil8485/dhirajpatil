{
 "cells": [
  {
   "cell_type": "code",
   "execution_count": 2,
   "id": "25c58312-1416-4fdd-856b-08baf845c797",
   "metadata": {},
   "outputs": [
    {
     "ename": "SyntaxError",
     "evalue": "invalid syntax (2025523277.py, line 1)",
     "output_type": "error",
     "traceback": [
      "\u001b[1;36m  Cell \u001b[1;32mIn[2], line 1\u001b[1;36m\u001b[0m\n\u001b[1;33m    Dict:\u001b[0m\n\u001b[1;37m         ^\u001b[0m\n\u001b[1;31mSyntaxError\u001b[0m\u001b[1;31m:\u001b[0m invalid syntax\n"
     ]
    }
   ],
   "source": [
    "Dict:\n",
    "\n",
    "it is collection of item\n",
    "item - > key:value pair\n",
    "it is denoted by {}\n",
    "it is mutable type DS\n",
    "\n",
    "key : always immuatble type DT/DS\n",
    "1.tuple - not recommnded\n",
    "2.str\n",
    "3.frozenset - not recommnded\n",
    "4.int\n",
    "\n",
    "\n",
    "value :\n",
    "it can be mutable or immutable \n",
    "\n",
    "Interview:\n",
    "can we use list as key?\n",
    "No,we cannt\n",
    "\n",
    "can we use tuple as key?\n",
    "Yes\n",
    "\n"
   ]
  },
  {
   "cell_type": "code",
   "execution_count": 11,
   "id": "fedc2b4a-9316-48c6-8f1b-3f32f6bd7f11",
   "metadata": {},
   "outputs": [],
   "source": [
    "emp = {'id':101,'name':'Keshav','sal':65645645,'city':'Pune'}"
   ]
  },
  {
   "cell_type": "code",
   "execution_count": null,
   "id": "8761a26c-8b36-4285-8ecf-2b44d53ebb14",
   "metadata": {},
   "outputs": [],
   "source": [
    "'id':101\n",
    "\n",
    "'id' --> key\n",
    "101 --> value"
   ]
  },
  {
   "cell_type": "code",
   "execution_count": 3,
   "id": "b533ece0-b79f-4c26-b930-f02c6a6a6441",
   "metadata": {},
   "outputs": [
    {
     "ename": "TypeError",
     "evalue": "unhashable type: 'list'",
     "output_type": "error",
     "traceback": [
      "\u001b[1;31m---------------------------------------------------------------------------\u001b[0m",
      "\u001b[1;31mTypeError\u001b[0m                                 Traceback (most recent call last)",
      "Cell \u001b[1;32mIn[3], line 1\u001b[0m\n\u001b[1;32m----> 1\u001b[0m t \u001b[38;5;241m=\u001b[39m {[\u001b[38;5;241m1\u001b[39m,\u001b[38;5;241m2\u001b[39m,\u001b[38;5;241m3\u001b[39m]:\u001b[38;5;241m100\u001b[39m}\n",
      "\u001b[1;31mTypeError\u001b[0m: unhashable type: 'list'"
     ]
    }
   ],
   "source": [
    "t = {[1,2,3]:100}"
   ]
  },
  {
   "cell_type": "code",
   "execution_count": 4,
   "id": "6c922bdd-3e49-4247-a9f9-45e288edfc81",
   "metadata": {},
   "outputs": [],
   "source": [
    "t = {(1,2,3):100}"
   ]
  },
  {
   "cell_type": "code",
   "execution_count": 5,
   "id": "1ec41dd7-1662-41fb-9de4-9e58aa9e0520",
   "metadata": {},
   "outputs": [
    {
     "data": {
      "text/plain": [
       "{(1, 2, 3): 100}"
      ]
     },
     "execution_count": 5,
     "metadata": {},
     "output_type": "execute_result"
    }
   ],
   "source": [
    "t"
   ]
  },
  {
   "cell_type": "code",
   "execution_count": 6,
   "id": "839d3445-19bc-40c1-93db-23595c0dd912",
   "metadata": {},
   "outputs": [],
   "source": [
    "emp = {'id':(101,102,103),\n",
    "       'name':['a','b','c'],\n",
    "       'city':['pune','banglore','chennai']}"
   ]
  },
  {
   "cell_type": "code",
   "execution_count": 7,
   "id": "996fc742-9121-43b8-9e73-e1496304b715",
   "metadata": {},
   "outputs": [
    {
     "data": {
      "text/plain": [
       "{'id': (101, 102, 103),\n",
       " 'name': ['a', 'b', 'c'],\n",
       " 'city': ['pune', 'banglore', 'chennai']}"
      ]
     },
     "execution_count": 7,
     "metadata": {},
     "output_type": "execute_result"
    }
   ],
   "source": [
    "emp"
   ]
  },
  {
   "cell_type": "code",
   "execution_count": 12,
   "id": "e43584ec-7fdb-43ac-b909-31de4a54e7cf",
   "metadata": {},
   "outputs": [
    {
     "data": {
      "text/plain": [
       "{'id': 101, 'name': 'Keshav', 'sal': 65645645, 'city': 'Pune'}"
      ]
     },
     "execution_count": 12,
     "metadata": {},
     "output_type": "execute_result"
    }
   ],
   "source": [
    "emp"
   ]
  },
  {
   "cell_type": "code",
   "execution_count": null,
   "id": "b510a4dc-dd5a-4b10-9c1c-cb4bf71c826a",
   "metadata": {},
   "outputs": [],
   "source": [
    "Operation:\n",
    "\n",
    "access value using key\n",
    "\n",
    "\n",
    "dict[key]\n",
    "\n",
    "if key present then return its associate value\n",
    "if not then return KeyError"
   ]
  },
  {
   "cell_type": "code",
   "execution_count": 13,
   "id": "2d513327-06d7-4e6d-ad42-1520641b8b39",
   "metadata": {},
   "outputs": [
    {
     "data": {
      "text/plain": [
       "{'id': 101, 'name': 'Keshav', 'sal': 65645645, 'city': 'Pune'}"
      ]
     },
     "execution_count": 13,
     "metadata": {},
     "output_type": "execute_result"
    }
   ],
   "source": [
    "emp"
   ]
  },
  {
   "cell_type": "code",
   "execution_count": 14,
   "id": "cbb78961-24c9-435b-a1b2-2b4fc91982ed",
   "metadata": {},
   "outputs": [
    {
     "data": {
      "text/plain": [
       "'Pune'"
      ]
     },
     "execution_count": 14,
     "metadata": {},
     "output_type": "execute_result"
    }
   ],
   "source": [
    "emp['city']"
   ]
  },
  {
   "cell_type": "code",
   "execution_count": 15,
   "id": "ff494e96-e234-4de6-b766-4f3092eede83",
   "metadata": {},
   "outputs": [
    {
     "data": {
      "text/plain": [
       "65645645"
      ]
     },
     "execution_count": 15,
     "metadata": {},
     "output_type": "execute_result"
    }
   ],
   "source": [
    "emp['sal']"
   ]
  },
  {
   "cell_type": "code",
   "execution_count": 16,
   "id": "79efa28f-32b3-4556-8fa7-0f1244efb745",
   "metadata": {},
   "outputs": [
    {
     "data": {
      "text/plain": [
       "{'id': 101, 'name': 'Keshav', 'sal': 65645645, 'city': 'Pune'}"
      ]
     },
     "execution_count": 16,
     "metadata": {},
     "output_type": "execute_result"
    }
   ],
   "source": [
    "emp"
   ]
  },
  {
   "cell_type": "code",
   "execution_count": 17,
   "id": "d7c26264-0434-48e2-acf6-a4351a3fdb03",
   "metadata": {},
   "outputs": [
    {
     "ename": "KeyError",
     "evalue": "'dept'",
     "output_type": "error",
     "traceback": [
      "\u001b[1;31m---------------------------------------------------------------------------\u001b[0m",
      "\u001b[1;31mKeyError\u001b[0m                                  Traceback (most recent call last)",
      "Cell \u001b[1;32mIn[17], line 1\u001b[0m\n\u001b[1;32m----> 1\u001b[0m emp[\u001b[38;5;124m'\u001b[39m\u001b[38;5;124mdept\u001b[39m\u001b[38;5;124m'\u001b[39m]\n",
      "\u001b[1;31mKeyError\u001b[0m: 'dept'"
     ]
    }
   ],
   "source": [
    "emp['dept']"
   ]
  },
  {
   "cell_type": "code",
   "execution_count": 19,
   "id": "a6011148-fb7f-498f-a942-c876dadc2d2a",
   "metadata": {},
   "outputs": [],
   "source": [
    "emp = {'id': 101, 'name': 'Keshav', 'sal': 65645645, 'address': {'city':'pune','area':{'location':'SB Road'}}}"
   ]
  },
  {
   "cell_type": "code",
   "execution_count": 22,
   "id": "1bef8251-b938-48b6-9b20-466f3e011928",
   "metadata": {},
   "outputs": [
    {
     "data": {
      "text/plain": [
       "'pune'"
      ]
     },
     "execution_count": 22,
     "metadata": {},
     "output_type": "execute_result"
    }
   ],
   "source": [
    "emp['address']['city']"
   ]
  },
  {
   "cell_type": "code",
   "execution_count": 28,
   "id": "ca502d26-255d-431a-8337-580a95e966ba",
   "metadata": {},
   "outputs": [
    {
     "data": {
      "text/plain": [
       "'SB Road'"
      ]
     },
     "execution_count": 28,
     "metadata": {},
     "output_type": "execute_result"
    }
   ],
   "source": [
    "emp['address']['area']['location']"
   ]
  },
  {
   "cell_type": "code",
   "execution_count": 29,
   "id": "978a4cde-be2a-4640-8619-fedd439c65fc",
   "metadata": {},
   "outputs": [],
   "source": [
    "event = {  \n",
    "   \"Records\":[  \n",
    "      {  \n",
    "         \"eventVersion\":\"2.2\",\n",
    "         \"eventSource\":\"aws:s3\",\n",
    "         \"awsRegion\":\"us-west-2\",\n",
    "         \"eventTime\":\"The time, in ISO-8601 format, for example, 1970-01-01T00:00:00.000Z, when Amazon S3 finished processing the request\",\n",
    "         \"eventName\":\"event-type\",\n",
    "         \"userIdentity\":{  \n",
    "            \"principalId\":\"Amazon-customer-ID-of-the-user-who-caused-the-event\"\n",
    "         },\n",
    "         \"requestParameters\":{  \n",
    "            \"sourceIPAddress\":\"ip-address-where-request-came-from\"\n",
    "         },\n",
    "         \"responseElements\":{  \n",
    "            \"x-amz-request-id\":\"Amazon S3 generated request ID\",\n",
    "            \"x-amz-id-2\":\"Amazon S3 host that processed the request\"\n",
    "         },\n",
    "         \"s3\":{  \n",
    "            \"s3SchemaVersion\":\"1.0\",\n",
    "            \"configurationId\":\"ID found in the bucket notification configuration\",\n",
    "            \"bucket\":{  \n",
    "               \"name\":\"amzn-s3-demo-bucket\",\n",
    "               \"ownerIdentity\":{  \n",
    "                  \"principalId\":\"Amazon-customer-ID-of-the-bucket-owner\"\n",
    "               },\n",
    "               \"arn\":\"bucket-ARN\"\n",
    "            },\n",
    "            \"object\":{  \n",
    "               \"key\":\"object-key\",\n",
    "               \"size\":\"object-size in bytes\",\n",
    "               \"eTag\":\"object eTag\",\n",
    "               \"versionId\":\"object version if bucket is versioning-enabled, otherwise null\",\n",
    "               \"sequencer\": \"a string representation of a hexadecimal value used to determine event sequence, only used with PUTs and DELETEs\"\n",
    "            }\n",
    "         },\n",
    "         \"glacierEventData\": {\n",
    "            \"restoreEventData\": {\n",
    "               \"lifecycleRestorationExpiryTime\": \"The time, in ISO-8601 format, for example, 1970-01-01T00:00:00.000Z, of Restore Expiry\",\n",
    "               \"lifecycleRestoreStorageClass\": \"Source storage class for restore\"\n",
    "            }\n",
    "         }\n",
    "      }\n",
    "   ]\n",
    "}"
   ]
  },
  {
   "cell_type": "code",
   "execution_count": 30,
   "id": "6d840fac-50a5-4b32-ac72-b39601997be6",
   "metadata": {},
   "outputs": [
    {
     "data": {
      "text/plain": [
       "{'Records': [{'eventVersion': '2.2',\n",
       "   'eventSource': 'aws:s3',\n",
       "   'awsRegion': 'us-west-2',\n",
       "   'eventTime': 'The time, in ISO-8601 format, for example, 1970-01-01T00:00:00.000Z, when Amazon S3 finished processing the request',\n",
       "   'eventName': 'event-type',\n",
       "   'userIdentity': {'principalId': 'Amazon-customer-ID-of-the-user-who-caused-the-event'},\n",
       "   'requestParameters': {'sourceIPAddress': 'ip-address-where-request-came-from'},\n",
       "   'responseElements': {'x-amz-request-id': 'Amazon S3 generated request ID',\n",
       "    'x-amz-id-2': 'Amazon S3 host that processed the request'},\n",
       "   's3': {'s3SchemaVersion': '1.0',\n",
       "    'configurationId': 'ID found in the bucket notification configuration',\n",
       "    'bucket': {'name': 'amzn-s3-demo-bucket',\n",
       "     'ownerIdentity': {'principalId': 'Amazon-customer-ID-of-the-bucket-owner'},\n",
       "     'arn': 'bucket-ARN'},\n",
       "    'object': {'key': 'object-key',\n",
       "     'size': 'object-size in bytes',\n",
       "     'eTag': 'object eTag',\n",
       "     'versionId': 'object version if bucket is versioning-enabled, otherwise null',\n",
       "     'sequencer': 'a string representation of a hexadecimal value used to determine event sequence, only used with PUTs and DELETEs'}},\n",
       "   'glacierEventData': {'restoreEventData': {'lifecycleRestorationExpiryTime': 'The time, in ISO-8601 format, for example, 1970-01-01T00:00:00.000Z, of Restore Expiry',\n",
       "     'lifecycleRestoreStorageClass': 'Source storage class for restore'}}}]}"
      ]
     },
     "execution_count": 30,
     "metadata": {},
     "output_type": "execute_result"
    }
   ],
   "source": [
    "event"
   ]
  },
  {
   "cell_type": "code",
   "execution_count": null,
   "id": "c46635fd-382e-49c9-8eed-a3c5bc5ffe32",
   "metadata": {},
   "outputs": [],
   "source": [
    "\n",
    "Access Values :\n",
    "\n",
    "amzn-s3-demo-bucket\n",
    "object-size in bytes\n",
    "Amazon S3 generated request ID\n",
    "Source storage class for restore\n",
    "object eTag\n",
    "object-key"
   ]
  }
 ],
 "metadata": {
  "kernelspec": {
   "display_name": "Python 3 (ipykernel)",
   "language": "python",
   "name": "python3"
  },
  "language_info": {
   "codemirror_mode": {
    "name": "ipython",
    "version": 3
   },
   "file_extension": ".py",
   "mimetype": "text/x-python",
   "name": "python",
   "nbconvert_exporter": "python",
   "pygments_lexer": "ipython3",
   "version": "3.12.7"
  }
 },
 "nbformat": 4,
 "nbformat_minor": 5
}
