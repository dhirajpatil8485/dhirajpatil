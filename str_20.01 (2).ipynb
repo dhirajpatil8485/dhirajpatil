{
 "cells": [
  {
   "cell_type": "code",
   "execution_count": null,
   "id": "b8033824-6f56-46fa-9646-7039f2d28349",
   "metadata": {},
   "outputs": [],
   "source": [
    "' '  or  \" \" --  single line string\n",
    "''' '''  or  \"\"\"   \"\"\"  multiline string"
   ]
  },
  {
   "cell_type": "code",
   "execution_count": null,
   "id": "d42547ed-2e64-421f-b160-e28531102dff",
   "metadata": {},
   "outputs": [],
   "source": [
    "doc string :\n",
    "\n",
    "''' \n",
    "\n",
    "\n",
    "\n",
    "'''"
   ]
  },
  {
   "cell_type": "code",
   "execution_count": null,
   "id": "8c5bb198-bc33-4df3-b3ab-a13e039ae8aa",
   "metadata": {},
   "outputs": [],
   "source": [
    "Operation:\n",
    "1.upper"
   ]
  },
  {
   "cell_type": "code",
   "execution_count": 1,
   "id": "dc0e47cd-4953-440f-bc9b-4e673bb1115a",
   "metadata": {},
   "outputs": [],
   "source": [
    "py = 'python'"
   ]
  },
  {
   "cell_type": "code",
   "execution_count": 3,
   "id": "17b530b4-fa22-4dbb-a849-14e660511d28",
   "metadata": {},
   "outputs": [],
   "source": [
    "temp = py.upper()"
   ]
  },
  {
   "cell_type": "code",
   "execution_count": 4,
   "id": "add1f87a-0281-422c-a1e6-cf617e850aca",
   "metadata": {},
   "outputs": [
    {
     "data": {
      "text/plain": [
       "'PYTHON'"
      ]
     },
     "execution_count": 4,
     "metadata": {},
     "output_type": "execute_result"
    }
   ],
   "source": [
    "temp"
   ]
  },
  {
   "cell_type": "code",
   "execution_count": 5,
   "id": "fb66c4d2-9a2c-4df3-b493-3debba8de80f",
   "metadata": {},
   "outputs": [],
   "source": [
    "p = 'JAVA'"
   ]
  },
  {
   "cell_type": "code",
   "execution_count": 6,
   "id": "e94dc7d1-65e0-41be-a1dc-5e79ab0c130a",
   "metadata": {},
   "outputs": [
    {
     "data": {
      "text/plain": [
       "'java'"
      ]
     },
     "execution_count": 6,
     "metadata": {},
     "output_type": "execute_result"
    }
   ],
   "source": [
    "p.lower()"
   ]
  },
  {
   "cell_type": "code",
   "execution_count": 8,
   "id": "3705e638-f802-4254-acf3-949f2d2a8da6",
   "metadata": {},
   "outputs": [],
   "source": [
    "p = 'HaDoOp'"
   ]
  },
  {
   "cell_type": "code",
   "execution_count": 9,
   "id": "94284c22-9331-4e79-868e-4143135a1c1b",
   "metadata": {},
   "outputs": [
    {
     "data": {
      "text/plain": [
       "'hAdOoP'"
      ]
     },
     "execution_count": 9,
     "metadata": {},
     "output_type": "execute_result"
    }
   ],
   "source": [
    "p.swapcase()"
   ]
  },
  {
   "cell_type": "code",
   "execution_count": 10,
   "id": "94369cfa-bbf5-41e4-a619-feb053c02adc",
   "metadata": {},
   "outputs": [],
   "source": [
    "p = 'the ml book'"
   ]
  },
  {
   "cell_type": "code",
   "execution_count": 11,
   "id": "82f52388-3c27-4a40-b5d2-343be2ce4eed",
   "metadata": {},
   "outputs": [
    {
     "data": {
      "text/plain": [
       "'The Ml Book'"
      ]
     },
     "execution_count": 11,
     "metadata": {},
     "output_type": "execute_result"
    }
   ],
   "source": [
    "p.title()"
   ]
  },
  {
   "cell_type": "code",
   "execution_count": 12,
   "id": "0ea9a85f-37cb-4461-bdc1-6515746bd36c",
   "metadata": {},
   "outputs": [
    {
     "data": {
      "text/plain": [
       "'The ml book'"
      ]
     },
     "execution_count": 12,
     "metadata": {},
     "output_type": "execute_result"
    }
   ],
   "source": [
    "p.capitalize()"
   ]
  },
  {
   "cell_type": "code",
   "execution_count": null,
   "id": "e4360fe0-ccc8-4218-890e-e5e0312edf8a",
   "metadata": {},
   "outputs": [],
   "source": [
    "upper -- upper case\n",
    "lower -- lower case\n",
    "title -- first letter upper\n",
    "swapcase - upper -- lower -- lower to upper\n",
    "captitalize -- first letter cap"
   ]
  },
  {
   "cell_type": "code",
   "execution_count": null,
   "id": "fe5f4508-88ec-4d83-ba45-d1ae04091b28",
   "metadata": {},
   "outputs": [],
   "source": [
    "filter based on condition:\n",
    "startswith()\n",
    "endswith()\n"
   ]
  },
  {
   "cell_type": "code",
   "execution_count": 13,
   "id": "82da9b82-6cac-4fa9-a871-772f5d6d4d36",
   "metadata": {},
   "outputs": [],
   "source": [
    "filename = 'copper_product'"
   ]
  },
  {
   "cell_type": "code",
   "execution_count": 15,
   "id": "3d826731-713d-4b87-97ad-7152f78b02ac",
   "metadata": {},
   "outputs": [
    {
     "data": {
      "text/plain": [
       "True"
      ]
     },
     "execution_count": 15,
     "metadata": {},
     "output_type": "execute_result"
    }
   ],
   "source": [
    "filename.startswith('copp')"
   ]
  },
  {
   "cell_type": "code",
   "execution_count": 16,
   "id": "7630b060-7bb9-4d2f-bbfa-2fed6ec753c5",
   "metadata": {},
   "outputs": [],
   "source": [
    "p = ['copper_4543533','silver_543543','gold_43543','gold_543534']"
   ]
  },
  {
   "cell_type": "code",
   "execution_count": 17,
   "id": "1925b51a-8afa-404e-a1dc-e2eddfa31e51",
   "metadata": {},
   "outputs": [
    {
     "name": "stdout",
     "output_type": "stream",
     "text": [
      "gold_43543\n",
      "gold_543534\n"
     ]
    }
   ],
   "source": [
    "for prd in p:\n",
    "    if prd.startswith('gold'):\n",
    "        print(prd)"
   ]
  },
  {
   "cell_type": "code",
   "execution_count": null,
   "id": "5936aa82-ec2d-41d1-93a4-62c3bc1101a0",
   "metadata": {},
   "outputs": [],
   "source": [
    "endswith() \n",
    "ending pattern"
   ]
  },
  {
   "cell_type": "code",
   "execution_count": 18,
   "id": "7f1ce704-3984-4b9e-90f1-1e208a6b9b03",
   "metadata": {},
   "outputs": [],
   "source": [
    "file = 'python.csv'"
   ]
  },
  {
   "cell_type": "code",
   "execution_count": 19,
   "id": "d5cd4798-7573-40c6-91c6-8455c209bfb8",
   "metadata": {},
   "outputs": [
    {
     "data": {
      "text/plain": [
       "True"
      ]
     },
     "execution_count": 19,
     "metadata": {},
     "output_type": "execute_result"
    }
   ],
   "source": [
    "file.endswith('.csv')"
   ]
  },
  {
   "cell_type": "code",
   "execution_count": 20,
   "id": "cc251292-230b-4303-abd2-58806303a3b4",
   "metadata": {},
   "outputs": [],
   "source": [
    "emails = 'test@gmail.com'"
   ]
  },
  {
   "cell_type": "code",
   "execution_count": 22,
   "id": "e3b13364-96fc-41a7-bd95-236385313dd6",
   "metadata": {},
   "outputs": [
    {
     "data": {
      "text/plain": [
       "False"
      ]
     },
     "execution_count": 22,
     "metadata": {},
     "output_type": "execute_result"
    }
   ],
   "source": [
    "emails.endswith('@gmail')"
   ]
  },
  {
   "cell_type": "code",
   "execution_count": 23,
   "id": "1c27bbce-dca0-4ced-801f-306df61f0b58",
   "metadata": {},
   "outputs": [],
   "source": [
    "test = 'safsdfsdfsdfsdf'"
   ]
  },
  {
   "cell_type": "code",
   "execution_count": 24,
   "id": "461be86a-68ac-4809-b164-5749589463bf",
   "metadata": {},
   "outputs": [
    {
     "data": {
      "text/plain": [
       "True"
      ]
     },
     "execution_count": 24,
     "metadata": {},
     "output_type": "execute_result"
    }
   ],
   "source": [
    "test.endswith('sdf')"
   ]
  },
  {
   "cell_type": "code",
   "execution_count": 25,
   "id": "c19d7ee7-9aa8-4dd8-b111-a11676aa41ce",
   "metadata": {},
   "outputs": [],
   "source": [
    "p = 'the python ds ml ai'"
   ]
  },
  {
   "cell_type": "code",
   "execution_count": 27,
   "id": "17dbad84-1029-43cc-af2f-beeffb383d8b",
   "metadata": {},
   "outputs": [],
   "source": [
    "p = 'python#java#DS'"
   ]
  },
  {
   "cell_type": "code",
   "execution_count": null,
   "id": "1377c1a9-9b96-4c0e-877d-449b7e705264",
   "metadata": {},
   "outputs": [],
   "source": [
    "split(sep) :  string break --> list "
   ]
  },
  {
   "cell_type": "code",
   "execution_count": 29,
   "id": "4df2308d-6476-4cab-a525-d25251e5a2a2",
   "metadata": {},
   "outputs": [
    {
     "data": {
      "text/plain": [
       "'java'"
      ]
     },
     "execution_count": 29,
     "metadata": {},
     "output_type": "execute_result"
    }
   ],
   "source": [
    "p.split('#')[1]"
   ]
  },
  {
   "cell_type": "code",
   "execution_count": 30,
   "id": "03edc361-a522-4367-bfea-087028c6c58a",
   "metadata": {},
   "outputs": [
    {
     "data": {
      "text/plain": [
       "'test@gmail.com'"
      ]
     },
     "execution_count": 30,
     "metadata": {},
     "output_type": "execute_result"
    }
   ],
   "source": [
    "emails"
   ]
  },
  {
   "cell_type": "code",
   "execution_count": 31,
   "id": "f5436a72-c0df-4f2e-862c-d7fef7eae1ba",
   "metadata": {},
   "outputs": [],
   "source": [
    "e = 'arun.patil@gmail.com'"
   ]
  },
  {
   "cell_type": "code",
   "execution_count": 34,
   "id": "d73cdc8e-1782-4893-8cc5-d99268871945",
   "metadata": {},
   "outputs": [],
   "source": [
    "username = e.split('@')[0]"
   ]
  },
  {
   "cell_type": "code",
   "execution_count": 38,
   "id": "ccebb58a-3a23-4e50-ab7a-17c1d21a1f01",
   "metadata": {},
   "outputs": [
    {
     "data": {
      "text/plain": [
       "'arun'"
      ]
     },
     "execution_count": 38,
     "metadata": {},
     "output_type": "execute_result"
    }
   ],
   "source": [
    "e.split('@')[0].split('.')[0]"
   ]
  },
  {
   "cell_type": "code",
   "execution_count": 39,
   "id": "375b83f2-809c-4561-9cb6-08b37791a8d4",
   "metadata": {},
   "outputs": [],
   "source": [
    "filename = 'copper_20/01/2025_product/daily.csv'"
   ]
  },
  {
   "cell_type": "code",
   "execution_count": 43,
   "id": "7c5100d0-f13a-44c6-adf6-756b1e44c708",
   "metadata": {},
   "outputs": [
    {
     "data": {
      "text/plain": [
       "'2025'"
      ]
     },
     "execution_count": 43,
     "metadata": {},
     "output_type": "execute_result"
    }
   ],
   "source": [
    "filename.split('_')[1].split('/')[-1]"
   ]
  },
  {
   "cell_type": "code",
   "execution_count": null,
   "id": "20c98eb8-387c-4d9f-876b-5a37523fa470",
   "metadata": {},
   "outputs": [],
   "source": [
    "strip(): to cut /remove whitespaces from both end\n",
    "lstrip() : to remove whitespaces from left end\n",
    "rstrip() to remove whitespaces from right end"
   ]
  },
  {
   "cell_type": "code",
   "execution_count": 44,
   "id": "e4a6ef6b-67a4-43f7-80db-9ffac62096e4",
   "metadata": {},
   "outputs": [
    {
     "data": {
      "text/plain": [
       "False"
      ]
     },
     "execution_count": 44,
     "metadata": {},
     "output_type": "execute_result"
    }
   ],
   "source": [
    "'admin' == 'admin '"
   ]
  },
  {
   "cell_type": "code",
   "execution_count": 45,
   "id": "65fb17c5-3d2f-43f2-8d8b-4e44764ccd54",
   "metadata": {},
   "outputs": [],
   "source": [
    "emails = '    test@gmail.com  '"
   ]
  },
  {
   "cell_type": "code",
   "execution_count": 71,
   "id": "1f85a31c-80d0-4590-b842-b6c1243c28aa",
   "metadata": {},
   "outputs": [],
   "source": [
    "p = '465 samrath nagar ,     SB Road Pune 411016'"
   ]
  },
  {
   "cell_type": "code",
   "execution_count": 50,
   "id": "55c68d5f-61b6-4ae7-8eb6-310bc388e8bb",
   "metadata": {},
   "outputs": [
    {
     "ename": "SyntaxError",
     "evalue": "illegal target for annotation (505479692.py, line 1)",
     "output_type": "error",
     "traceback": [
      "\u001b[1;36m  Cell \u001b[1;32mIn[50], line 1\u001b[1;36m\u001b[0m\n\u001b[1;33m    split() : by defualt space\u001b[0m\n\u001b[1;37m    ^\u001b[0m\n\u001b[1;31mSyntaxError\u001b[0m\u001b[1;31m:\u001b[0m illegal target for annotation\n"
     ]
    }
   ],
   "source": [
    "split() : by defualt space"
   ]
  },
  {
   "cell_type": "code",
   "execution_count": 51,
   "id": "62024ec9-5b16-4e5e-a310-1e7ceda972b0",
   "metadata": {},
   "outputs": [
    {
     "data": {
      "text/plain": [
       "['465', 'samrath', 'nagar', ',', 'SB', 'Road', 'Pune', '411016']"
      ]
     },
     "execution_count": 51,
     "metadata": {},
     "output_type": "execute_result"
    }
   ],
   "source": [
    "p.split()"
   ]
  },
  {
   "cell_type": "code",
   "execution_count": 53,
   "id": "bec2e49b-1d5c-46d1-b3a6-1ee7f117ac47",
   "metadata": {},
   "outputs": [
    {
     "data": {
      "text/plain": [
       "'test@gmail.com  '"
      ]
     },
     "execution_count": 53,
     "metadata": {},
     "output_type": "execute_result"
    }
   ],
   "source": [
    "emails.lstrip()"
   ]
  },
  {
   "cell_type": "code",
   "execution_count": 54,
   "id": "1f9351c9-d25d-43fb-923b-09bc2883d66d",
   "metadata": {},
   "outputs": [
    {
     "data": {
      "text/plain": [
       "'    test@gmail.com'"
      ]
     },
     "execution_count": 54,
     "metadata": {},
     "output_type": "execute_result"
    }
   ],
   "source": [
    "emails.rstrip()"
   ]
  },
  {
   "cell_type": "code",
   "execution_count": 55,
   "id": "8dabfbd4-f485-4dbf-83ef-401f8bd9b410",
   "metadata": {},
   "outputs": [],
   "source": [
    "p = ['keshav','patil']"
   ]
  },
  {
   "cell_type": "code",
   "execution_count": 56,
   "id": "14c185e2-63ca-498b-a6d5-a027d27315e4",
   "metadata": {},
   "outputs": [
    {
     "data": {
      "text/plain": [
       "'keshav@patil'"
      ]
     },
     "execution_count": 56,
     "metadata": {},
     "output_type": "execute_result"
    }
   ],
   "source": [
    "'@'.join(p)"
   ]
  },
  {
   "cell_type": "code",
   "execution_count": 57,
   "id": "eeb5723b-b29f-4cf3-9a7e-2144bec12b4b",
   "metadata": {},
   "outputs": [
    {
     "data": {
      "text/plain": [
       "'keshav patil'"
      ]
     },
     "execution_count": 57,
     "metadata": {},
     "output_type": "execute_result"
    }
   ],
   "source": [
    "' '.join(p)"
   ]
  },
  {
   "cell_type": "code",
   "execution_count": 58,
   "id": "9a06caa1-47e6-487b-8faf-29caea821c44",
   "metadata": {},
   "outputs": [
    {
     "name": "stdin",
     "output_type": "stream",
     "text": [
      "Enter the age: 50\n"
     ]
    }
   ],
   "source": [
    "age = input(\"Enter the age:\")"
   ]
  },
  {
   "cell_type": "code",
   "execution_count": 59,
   "id": "0243af4b-444e-4c72-bc98-189caa56a394",
   "metadata": {},
   "outputs": [
    {
     "data": {
      "text/plain": [
       "str"
      ]
     },
     "execution_count": 59,
     "metadata": {},
     "output_type": "execute_result"
    }
   ],
   "source": [
    "type(age)"
   ]
  },
  {
   "cell_type": "code",
   "execution_count": null,
   "id": "cc5834c2-6da5-4ce3-8291-fac3f4261e4c",
   "metadata": {},
   "outputs": [],
   "source": [
    "format : dyanamic content string -- insert\n",
    "f "
   ]
  },
  {
   "cell_type": "code",
   "execution_count": 62,
   "id": "6bdefe75-c723-4cba-86dd-03050ddf896a",
   "metadata": {},
   "outputs": [],
   "source": [
    "a =100\n",
    "b =200\n",
    "c = a+b"
   ]
  },
  {
   "cell_type": "code",
   "execution_count": 63,
   "id": "be877cc8-1abd-4808-8cc6-12e790c5272e",
   "metadata": {},
   "outputs": [
    {
     "data": {
      "text/plain": [
       "'Addition of 100 and 200 is 300'"
      ]
     },
     "execution_count": 63,
     "metadata": {},
     "output_type": "execute_result"
    }
   ],
   "source": [
    "\"Addition of {} and {} is {}\".format(a,b,c)"
   ]
  },
  {
   "cell_type": "code",
   "execution_count": 64,
   "id": "005332a4-992b-47b9-94f2-8edc7490e5fd",
   "metadata": {},
   "outputs": [
    {
     "data": {
      "text/plain": [
       "'Addition of 100 and 200 is 300'"
      ]
     },
     "execution_count": 64,
     "metadata": {},
     "output_type": "execute_result"
    }
   ],
   "source": [
    "f\"Addition of {a} and {b} is {c}\""
   ]
  },
  {
   "cell_type": "code",
   "execution_count": 69,
   "id": "95a83c13-7c69-4b4d-aa6e-b8610539b471",
   "metadata": {},
   "outputs": [
    {
     "name": "stdin",
     "output_type": "stream",
     "text": [
      "Enter the number: 100\n",
      "Enter the second number: 444\n"
     ]
    },
    {
     "name": "stdout",
     "output_type": "stream",
     "text": [
      "Addition of 100 and 444 is 544\n",
      "Addition of 100 and 444 is 544\n"
     ]
    }
   ],
   "source": [
    "no1 = int(input(\"Enter the number:\"))\n",
    "no2 = int(input(\"Enter the second number:\"))\n",
    "no3 = no1+no2\n",
    "print(\"Addition of {} and {} is {}\".format(no1,no2,no3))\n",
    "print(f\"Addition of {no1} and {no2} is {no3}\")"
   ]
  },
  {
   "cell_type": "code",
   "execution_count": null,
   "id": "21884632-3eec-42ba-843d-e9d4edd0253d",
   "metadata": {},
   "outputs": [],
   "source": [
    "find(substring) :\n",
    "if substring found then it will return + index /starting index\n",
    "\n",
    "if not then return -1 index"
   ]
  },
  {
   "cell_type": "code",
   "execution_count": 70,
   "id": "d03f7b8e-d3f0-4473-bbd4-b09e5d494b6a",
   "metadata": {},
   "outputs": [
    {
     "data": {
      "text/plain": [
       "['keshav', 'patil']"
      ]
     },
     "execution_count": 70,
     "metadata": {},
     "output_type": "execute_result"
    }
   ],
   "source": [
    "p = "
   ]
  },
  {
   "cell_type": "code",
   "execution_count": 73,
   "id": "09afb0c9-2b43-42e1-8b7d-8834f6078215",
   "metadata": {},
   "outputs": [
    {
     "data": {
      "text/plain": [
       "32"
      ]
     },
     "execution_count": 73,
     "metadata": {},
     "output_type": "execute_result"
    }
   ],
   "source": [
    "p.find('Pune')"
   ]
  },
  {
   "cell_type": "code",
   "execution_count": 76,
   "id": "cd0ee604-5cf5-4cb6-8fc4-7c415c16bef8",
   "metadata": {},
   "outputs": [
    {
     "name": "stdout",
     "output_type": "stream",
     "text": [
      "found\n"
     ]
    }
   ],
   "source": [
    "if p.find('Pune')==-1:\n",
    "    print(\"not found\")\n",
    "else:\n",
    "    print(\"found\")"
   ]
  },
  {
   "cell_type": "code",
   "execution_count": null,
   "id": "82e96aa6-8344-44c6-b682-e5d16dbee961",
   "metadata": {},
   "outputs": [],
   "source": [
    "find --> -1 -- not found\n",
    "find -- > + index -- found"
   ]
  },
  {
   "cell_type": "code",
   "execution_count": 77,
   "id": "f00e5922-dc06-454b-98eb-4652c052576c",
   "metadata": {},
   "outputs": [
    {
     "data": {
      "text/plain": [
       "'465 samrath nagar ,     SB Road Pune 411016'"
      ]
     },
     "execution_count": 77,
     "metadata": {},
     "output_type": "execute_result"
    }
   ],
   "source": [
    "p"
   ]
  },
  {
   "cell_type": "code",
   "execution_count": 78,
   "id": "72712636-77d2-4a93-9480-9503b9ff211f",
   "metadata": {},
   "outputs": [],
   "source": [
    "p =  'Pune 465 samrath nagar ,     SB Road Pune 411016'"
   ]
  },
  {
   "cell_type": "code",
   "execution_count": 79,
   "id": "de72c1d3-6e35-494e-894f-34733c0ac4e7",
   "metadata": {},
   "outputs": [
    {
     "data": {
      "text/plain": [
       "0"
      ]
     },
     "execution_count": 79,
     "metadata": {},
     "output_type": "execute_result"
    }
   ],
   "source": [
    "p.find('Pune')"
   ]
  },
  {
   "cell_type": "code",
   "execution_count": 80,
   "id": "e2e52117-e05e-4a35-a13a-21f2fb76f86f",
   "metadata": {},
   "outputs": [
    {
     "data": {
      "text/plain": [
       "-1"
      ]
     },
     "execution_count": 80,
     "metadata": {},
     "output_type": "execute_result"
    }
   ],
   "source": [
    "p.find('mumbai')"
   ]
  },
  {
   "cell_type": "code",
   "execution_count": null,
   "id": "889d5b9e-d114-4ca8-b656-943748aca6db",
   "metadata": {},
   "outputs": [],
   "source": [
    "replace(old,new)"
   ]
  },
  {
   "cell_type": "code",
   "execution_count": 83,
   "id": "12ec40bd-1d43-4e98-89d6-e390040287c7",
   "metadata": {},
   "outputs": [],
   "source": [
    "p = 'pythonpppp'"
   ]
  },
  {
   "cell_type": "code",
   "execution_count": 84,
   "id": "10c8cf52-a684-45fe-84c9-eef7868a0636",
   "metadata": {},
   "outputs": [
    {
     "data": {
      "text/plain": [
       "'jythonjjjj'"
      ]
     },
     "execution_count": 84,
     "metadata": {},
     "output_type": "execute_result"
    }
   ],
   "source": [
    "p.replace('p','j')"
   ]
  },
  {
   "cell_type": "code",
   "execution_count": 87,
   "id": "85a06cb4-995a-4818-b04a-253efb15c28f",
   "metadata": {},
   "outputs": [],
   "source": [
    "temp = p.replace('p','j',1)"
   ]
  },
  {
   "cell_type": "code",
   "execution_count": 86,
   "id": "263098d7-78a2-4625-ac6b-6f7effe4534a",
   "metadata": {},
   "outputs": [
    {
     "data": {
      "text/plain": [
       "'pythonpppp'"
      ]
     },
     "execution_count": 86,
     "metadata": {},
     "output_type": "execute_result"
    }
   ],
   "source": [
    "p"
   ]
  },
  {
   "cell_type": "code",
   "execution_count": 88,
   "id": "3d41f527-6c88-4908-9fee-9e47f1b2f2c5",
   "metadata": {},
   "outputs": [
    {
     "data": {
      "text/plain": [
       "'jythonpppp'"
      ]
     },
     "execution_count": 88,
     "metadata": {},
     "output_type": "execute_result"
    }
   ],
   "source": [
    "temp"
   ]
  },
  {
   "cell_type": "code",
   "execution_count": 89,
   "id": "a9ff2489-3b89-4ce9-bb52-4208a8eed9a4",
   "metadata": {},
   "outputs": [
    {
     "data": {
      "text/plain": [
       "'pythonpppp'"
      ]
     },
     "execution_count": 89,
     "metadata": {},
     "output_type": "execute_result"
    }
   ],
   "source": [
    "p"
   ]
  },
  {
   "cell_type": "code",
   "execution_count": null,
   "id": "3725428b-b521-4c2a-ba5a-9deccfc4b1dd",
   "metadata": {},
   "outputs": [],
   "source": [
    "string content check:\n",
    "\n",
    "'safdfdsfsd'\n",
    "'654656545'\n",
    "'dsfsdaf543553'"
   ]
  },
  {
   "cell_type": "code",
   "execution_count": null,
   "id": "dce18ff7-29f6-4c88-a7d8-4130ef56f6a4",
   "metadata": {},
   "outputs": [],
   "source": [
    "name -- > alpha\n",
    "\n",
    "age -- > numeric\n",
    "\n",
    "copper4234"
   ]
  },
  {
   "cell_type": "code",
   "execution_count": 94,
   "id": "4538d981-7195-465a-bd62-fff958acc08f",
   "metadata": {},
   "outputs": [],
   "source": [
    "age = '42'"
   ]
  },
  {
   "cell_type": "code",
   "execution_count": 95,
   "id": "230ba9cb-6615-4567-85bd-bf6ceba852c2",
   "metadata": {},
   "outputs": [
    {
     "data": {
      "text/plain": [
       "True"
      ]
     },
     "execution_count": 95,
     "metadata": {},
     "output_type": "execute_result"
    }
   ],
   "source": [
    "age.isnumeric()"
   ]
  },
  {
   "cell_type": "code",
   "execution_count": 100,
   "id": "ce591965-9dc4-4ade-93f6-865277532bbf",
   "metadata": {},
   "outputs": [],
   "source": [
    "name = 'keshav'"
   ]
  },
  {
   "cell_type": "code",
   "execution_count": 101,
   "id": "a969cec5-e557-4f91-94d2-7e6343302eee",
   "metadata": {},
   "outputs": [
    {
     "data": {
      "text/plain": [
       "True"
      ]
     },
     "execution_count": 101,
     "metadata": {},
     "output_type": "execute_result"
    }
   ],
   "source": [
    "name.isalpha()"
   ]
  },
  {
   "cell_type": "code",
   "execution_count": null,
   "id": "070346b1-5a20-4e55-a79c-c4b93a8023ec",
   "metadata": {},
   "outputs": [],
   "source": [
    "Note : \n",
    "operation result --> True/False --> filtering | valid or not --> check"
   ]
  },
  {
   "cell_type": "code",
   "execution_count": 106,
   "id": "4f6a03fe-f10e-45ef-88ee-e357d7cf525c",
   "metadata": {},
   "outputs": [],
   "source": [
    "a = '535wfdf'"
   ]
  },
  {
   "cell_type": "code",
   "execution_count": 107,
   "id": "9af61e10-1b18-4f75-a360-28ceab6c5b25",
   "metadata": {},
   "outputs": [
    {
     "data": {
      "text/plain": [
       "True"
      ]
     },
     "execution_count": 107,
     "metadata": {},
     "output_type": "execute_result"
    }
   ],
   "source": [
    "a.isalnum()"
   ]
  },
  {
   "cell_type": "code",
   "execution_count": null,
   "id": "085f8528-07ed-4af0-b25a-9961d04f2e38",
   "metadata": {},
   "outputs": [],
   "source": [
    "'a-z/A-Z/0-9'"
   ]
  },
  {
   "cell_type": "code",
   "execution_count": null,
   "id": "c1f2aa64-71f4-4de1-83b7-5e67617e10aa",
   "metadata": {},
   "outputs": [],
   "source": []
  }
 ],
 "metadata": {
  "kernelspec": {
   "display_name": "Python 3 (ipykernel)",
   "language": "python",
   "name": "python3"
  },
  "language_info": {
   "codemirror_mode": {
    "name": "ipython",
    "version": 3
   },
   "file_extension": ".py",
   "mimetype": "text/x-python",
   "name": "python",
   "nbconvert_exporter": "python",
   "pygments_lexer": "ipython3",
   "version": "3.12.7"
  }
 },
 "nbformat": 4,
 "nbformat_minor": 5
}
